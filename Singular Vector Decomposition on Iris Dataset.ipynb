{
 "cells": [
  {
   "cell_type": "markdown",
   "id": "4c91daa1",
   "metadata": {},
   "source": [
    "# Name- Abhinav Kumar"
   ]
  },
  {
   "cell_type": "markdown",
   "id": "1a2b4e37",
   "metadata": {},
   "source": [
    "# PRN- 21070126006"
   ]
  },
  {
   "cell_type": "markdown",
   "id": "898d7ef4",
   "metadata": {},
   "source": [
    "# Branch- AIML_A-1"
   ]
  },
  {
   "cell_type": "raw",
   "id": "ef73b691",
   "metadata": {},
   "source": [
    "Singular value decomposition (SVD) is a matrix factorization technique that decomposes a matrix into three smaller matrices. Given an m × n matrix A, its SVD factorization produces:\n",
    "\n",
    "A = U Σ V^T\n",
    "\n",
    "where:\n",
    "\n",
    "U is an m × m orthogonal matrix, meaning its columns are orthonormal (unit vectors that are perpendicular to each other) and form an orthonormal basis for the column space of A.\n",
    "Σ is an m × n diagonal matrix with non-negative entries (singular values) on the diagonal, arranged in descending order. These singular values represent the relative importance of the corresponding columns in the matrix A.\n",
    "V is an n × n orthogonal matrix, meaning its columns are orthonormal and form an orthonormal basis for the row space of A.\n",
    "\n",
    "SVD has many applications in various fields, such as signal processing, image compression, machine learning, and data analysis. It is a powerful tool for understanding the structure of a matrix and for extracting useful information from it."
   ]
  },
  {
   "cell_type": "markdown",
   "id": "3a75ce4d",
   "metadata": {},
   "source": [
    "### a) Implement SVD for Dimensionality Reduction Techniques on Iris Dataset. Give 2D Plot of the Iris dataset."
   ]
  },
  {
   "cell_type": "code",
   "execution_count": 11,
   "id": "b97e5fed",
   "metadata": {},
   "outputs": [],
   "source": [
    "#Importing Required Libraries\n",
    "import pandas as pd\n",
    "from sklearn.datasets import load_iris\n",
    "from sklearn.preprocessing import StandardScaler\n",
    "from sklearn.decomposition import TruncatedSVD\n",
    "import numpy as np\n",
    "import matplotlib.pyplot as pltb"
   ]
  },
  {
   "cell_type": "code",
   "execution_count": 17,
   "id": "eabb19e7",
   "metadata": {},
   "outputs": [],
   "source": [
    "#Loading Iris Dataset\n",
    "iris = load_iris()\n",
    "X = pd.DataFrame(data=iris.data,columns=iris.feature_names)\n",
    "y = iris.target"
   ]
  },
  {
   "cell_type": "code",
   "execution_count": 18,
   "id": "fe5d876c",
   "metadata": {},
   "outputs": [
    {
     "data": {
      "text/plain": [
       "<bound method NDFrame.describe of      sepal length (cm)  sepal width (cm)  petal length (cm)  petal width (cm)\n",
       "0                  5.1               3.5                1.4               0.2\n",
       "1                  4.9               3.0                1.4               0.2\n",
       "2                  4.7               3.2                1.3               0.2\n",
       "3                  4.6               3.1                1.5               0.2\n",
       "4                  5.0               3.6                1.4               0.2\n",
       "..                 ...               ...                ...               ...\n",
       "145                6.7               3.0                5.2               2.3\n",
       "146                6.3               2.5                5.0               1.9\n",
       "147                6.5               3.0                5.2               2.0\n",
       "148                6.2               3.4                5.4               2.3\n",
       "149                5.9               3.0                5.1               1.8\n",
       "\n",
       "[150 rows x 4 columns]>"
      ]
     },
     "execution_count": 18,
     "metadata": {},
     "output_type": "execute_result"
    }
   ],
   "source": [
    "X.describe"
   ]
  },
  {
   "cell_type": "code",
   "execution_count": 19,
   "id": "e3654e28",
   "metadata": {},
   "outputs": [
    {
     "data": {
      "text/plain": [
       "(150, 4)"
      ]
     },
     "execution_count": 19,
     "metadata": {},
     "output_type": "execute_result"
    }
   ],
   "source": [
    "X.shape"
   ]
  },
  {
   "cell_type": "code",
   "execution_count": 3,
   "id": "10f7ec76",
   "metadata": {},
   "outputs": [],
   "source": [
    "#Applying Singular Value Decomposition on iris dataset\n",
    "svd = TruncatedSVD(n_components=2)\n",
    "X_svd = svd.fit_transform(X)"
   ]
  },
  {
   "cell_type": "code",
   "execution_count": 4,
   "id": "d3ef6c2f",
   "metadata": {},
   "outputs": [
    {
     "data": {
      "image/png": "[encoded data removed]",
      "text/plain": [
       "<Figure size 432x288 with 1 Axes>"
      ]
     },
     "metadata": {
      "needs_background": "light"
     },
     "output_type": "display_data"
    }
   ],
   "source": [
    "# 2D Plot of the Iris dataset.\n",
    "plt.scatter(X_svd[:, 0], X_svd[:, 1], c=y)\n",
    "plt.xlabel('SVD Component 1')\n",
    "plt.ylabel('SVD Component 2')\n",
    "plt.title('Iris Dataset')\n",
    "plt.show()"
   ]
  },
  {
   "cell_type": "markdown",
   "id": "5c16aeac",
   "metadata": {},
   "source": [
    "### b) Study Image compression using SVD. Write in brief the application of SVD for Image compression in your own words by studying any one of the examples."
   ]
  },
  {
   "cell_type": "raw",
   "id": "e238eede",
   "metadata": {},
   "source": [
    "Singular value decomposition (SVD) is a powerful tool for image compression because it allows us to represent an image in a compact form with relatively few singular values. One example of how SVD can be used for image compression is the following:\n",
    "\n",
    "Suppose we have a grayscale image represented by an m × n matrix A, where each entry represents the intensity of a pixel. To compress the image, we first perform SVD on the matrix A:\n",
    "\n",
    "A = U Σ V^T\n",
    "\n",
    "where U_k is an m × k matrix consisting of the first k columns of U, Σ_k is a k × k diagonal matrix consisting of the first k singular values, and V_k is an n × k matrix consisting of the first k columns of V.\n",
    " The quality of the compressed image depends on the value of k. If k is too small, then the compressed image may lose important details and appear blurry or distorted. If k is too large, then the compressed image may not be much smaller than the original and may not provide much compression.\n",
    "\n",
    "One example of how SVD can be used for image compression is the JPEG image compression standard. In JPEG, the image is first divided into 8 × 8 blocks, and SVD is performed on each block separately. The singular values are then truncated and quantized to reduce the amount of data needed to represent them. The resulting compressed image is then encoded using lossy compression techniques to further reduce its size.\n",
    "\n",
    "Overall, SVD provides a powerful tool for image compression because it allows us to represent an image in a compact form using only the most important features. This can lead to significant savings in storage space and transmission bandwidth without sacrificing too much image quality."
   ]
  },
  {
   "cell_type": "code",
   "execution_count": null,
   "id": "2771e8af",
   "metadata": {},
   "outputs": [],
   "source": []
  }
 ],
 "metadata": {
  "kernelspec": {
   "display_name": "Python 3 (ipykernel)",
   "language": "python",
   "name": "python3"
  },
  "language_info": {
   "codemirror_mode": {
    "name": "ipython",
    "version": 3
   },
   "file_extension": ".py",
   "mimetype": "text/x-python",
   "name": "python",
   "nbconvert_exporter": "python",
   "pygments_lexer": "ipython3",
   "version": "3.9.7"
  }
 },
 "nbformat": 4,
 "nbformat_minor": 5
}
